{
 "cells": [
  {
   "cell_type": "markdown",
   "metadata": {},
   "source": [
    "## Семинар 1 \"Полносвязные нейронные сети\""
   ]
  },
  {
   "cell_type": "markdown",
   "metadata": {},
   "source": [
    "ФИО: Смирнов Михаил Андреевич"
   ]
  },
  {
   "cell_type": "markdown",
   "metadata": {},
   "source": [
    "В этом задании вам предстоит реализовать проход \"вперед\" для полносвязной нейронную сети. В дальнейшем мы реализуем процедуру обучения и научим сеть распознавать рукописные цифры.\n",
    "\n",
    "На первой лекции мы познакомились с тем, что такое нейронные сети и изучили три слоя — линейный, сигмоида и SoftMax. Из этих слоев можно составлять глубокие архитектуры и обучать их при помощи градиентного спуска. Чтобы конструировать сложные архитектуры, можно реализовать каждый тип слоя как отдельный \"кирпичик\" и затем собирать полную архитектуру как конструктор. Это мы и попробуем сделать на первом и втором семинарах."
   ]
  },
  {
   "cell_type": "markdown",
   "metadata": {},
   "source": [
    "Каждый тип слоя мы будем реализовывать при помощи класса, который будет поддерживать три функции: forward, которая будет применять функцию, реализуемую слоем, к входной матрице и backward, которая будет вычислять градиенты и step, которая будет обновлять веса. Чтобы не применять функцию к каждому объекту в отдельности, мы будем подавать на вход слою матрицу размера (N, d), где N — количество объектов, а d — размерность каждого объекта."
   ]
  },
  {
   "cell_type": "markdown",
   "metadata": {},
   "source": [
    "<img src=backprop.pdf width=400/>"
   ]
  },
  {
   "cell_type": "markdown",
   "metadata": {},
   "source": [
    "Функция forward будет вычислять по $x$ значение $y$, backward — по $\\frac{\\partial L}{\\partial y}$ вычислять $\\frac{\\partial L}{\\partial x}$ и обновлять внутри себя $\\frac{\\partial L}{\\partial w}$.\n",
    "\n",
    "Важным требованием к реализации является векторизация всех слоев: все операции должны быть сведены к матричным, не должно быть циклов. Это значительно уменьшает временные затраты."
   ]
  },
  {
   "cell_type": "code",
   "execution_count": 6,
   "metadata": {},
   "outputs": [],
   "source": [
    "import matplotlib.pyplot as plt\n",
    "import numpy as np\n",
    "%matplotlib inline"
   ]
  },
  {
   "cell_type": "markdown",
   "metadata": {},
   "source": [
    "### Часть 1: Линейный слой\n"
   ]
  },
  {
   "cell_type": "markdown",
   "metadata": {},
   "source": [
    "Приведем пример вычисления градиентов для линейного слоя: $y = Wx$, $x \\in \\mathbb{R}^{K \\times n}$, $y \\in \\mathbb{R}^{K \\times n}$, $W \\in \\mathbb{R}^{n \\times m}$, где $K$ — число объектов.\n",
    "\n",
    "Рассмотрим $L$ как функцию от выходов нейронной сети: $L = L(y_{11}, y_{12}, \\dots)$\n",
    "\n",
    "$$y_{kt} = (Wx)_{kt} = \\sum_{z=1}^{n} x_{kz}W_{zt}$$\n",
    "\n",
    "$$\\frac{\\partial L}{\\partial x_{ij}} = \\sum_{kt} \\frac{\\partial L}{\\partial y_{kt}}\\frac{\\partial y_{kt}}{\\partial x_{ij}} = \\sum_{kt} \\frac{\\partial L}{\\partial y_{kt}}\\frac{\\partial \\sum_z x_{kz}w_{zt}}{\\partial x_{ij}}= \\sum_{t} \\frac{\\partial L}{\\partial y_{it}}\\frac{\\partial w_{jt}}{\\partial x_{ij}}$$\n",
    "\n",
    "$$\\frac{\\partial{L}}{\\partial x} = \\frac{\\partial{L}}{\\partial y}W^T$$"
   ]
  },
  {
   "cell_type": "code",
   "execution_count": 7,
   "metadata": {},
   "outputs": [],
   "source": [
    "class Linear:\n",
    "    def __init__(self, input_size, output_size):\n",
    "        '''\n",
    "        Creates weights and biases for linear layer.\n",
    "        Dimention of inputs is *input_size*, of output: *output_size*.\n",
    "        '''\n",
    "        self.W = np.random.randn(input_size, output_size) * 0.1\n",
    "        self.b = np.zeros(output_size)\n",
    "        #### YOUR CODE HERE\n",
    "        #### Create weights, initialize them with samples from N(0, 0.1).\n",
    "        pass\n",
    "    \n",
    "    def forward(self, X):\n",
    "        '''\n",
    "        Passes objects through this layer.\n",
    "        X is np.array of size (N, input_size).\n",
    "        Returns output of size (N, output_size).\n",
    "        Hint: You may need to store X for backward pass\n",
    "        '''\n",
    "        self.X = X\n",
    "        self.Y = np.apply_along_axis(lambda x: x+self.b, 1, X @ self.W)\n",
    "\n",
    "        return self.Y\n",
    "    \n",
    "    def backward(self, dLdy):\n",
    "        '''\n",
    "        1. Compute dLdw and dLdx.\n",
    "        2. Store dLdw for step() call\n",
    "        3. Return dLdx\n",
    "        '''\n",
    "        self.dLdW = (dLdy.T @ self.X).T\n",
    "        self.dLdb = np.mean(dLdy, axis=0)\n",
    "        self.dLdX = dLdy @ self.W.T\n",
    "        \n",
    "        return self.dLdX\n",
    "    \n",
    "    def step(self, learning_rate):\n",
    "        '''\n",
    "        1. Apply gradient dLdw to network:\n",
    "        w <- w - l*dLdw\n",
    "        '''\n",
    "        self.W = self.W - learning_rate*self.dLdW\n",
    "        self.b = self.b - learning_rate*self.dLdb\n",
    "        \n",
    "        pass"
   ]
  },
  {
   "cell_type": "markdown",
   "metadata": {},
   "source": [
    "### Часть 2: Численный градиент"
   ]
  },
  {
   "cell_type": "markdown",
   "metadata": {},
   "source": [
    "Релизуйте функцию проверки численного градиента. Для этого для каждой переменной, по которой считается градиент, надо вычислить численный градиент: $f'(x) \\approx \\frac{f(x+\\epsilon)-f(x-\\epsilon)}{2\\epsilon}$. Функция должна возвращать максимальное абсолютное отклонение аналитического градиента от численного. В качестве $\\epsilon$ рекомендуется взять $10^{-6}$. При правильной реализации максимальное отличие будет иметь порядок $10^{-8}-10^{-6}$."
   ]
  },
  {
   "cell_type": "code",
   "execution_count": 8,
   "metadata": {},
   "outputs": [],
   "source": [
    "def check_gradient(func, X, gradient):\n",
    "    '''\n",
    "    Computes numerical gradient and compares it with analytcal.\n",
    "    func: callable, function of which gradient we are interested. Example call: func(X)\n",
    "    X: np.array of size (n x m)\n",
    "    gradient: np.array of size (n x m)\n",
    "    Returns: maximum absolute diviation between numerical gradient and analytical.\n",
    "    '''\n",
    "    eps = 10**(-6)\n",
    "    \n",
    "    calc = lambda x: (func(x + eps) - func(x - eps))/(2*eps)\n",
    "    calc_grad = np.zeros(X.shape)\n",
    "\n",
    "    for i in range(X.shape[0]):\n",
    "        for j in range(X.shape[1]):\n",
    "\n",
    "            X[i, j] += eps\n",
    "            f_r = func(X)\n",
    "        \n",
    "            X[i, j] -= 2*eps            \n",
    "            f_l = func(X)   \n",
    "            \n",
    "            X[i, j] += eps\n",
    "            calc_grad[i, j] = (f_r - f_l) / (2*eps)\n",
    "\n",
    "    return np.max(np.abs(calc_grad - gradient))"
   ]
  },
  {
   "cell_type": "code",
   "execution_count": 9,
   "metadata": {},
   "outputs": [],
   "source": [
    "# def check_gradient(func, X, gradient):\n",
    "#     eps = 10**(-5)\n",
    "    \n",
    "#     f_grad = np.zeros(gradient.shape)\n",
    "    \n",
    "#     for i in range(X.shape[0]):\n",
    "#         for j in range(X.shape[1]):\n",
    "#             X[i, j] += eps            \n",
    "#             f_r = func(X)\n",
    "#             X[i, j] -= 2*eps            \n",
    "#             f_l = func(X)            \n",
    "#             X[i, j] += eps\n",
    "                    \n",
    "#             f_grad[i, j] = (f_r - f_l) / 2 / eps\n",
    "    \n",
    "#     return np.max(np.abs(gradient - f_grad))"
   ]
  },
  {
   "cell_type": "markdown",
   "metadata": {},
   "source": [
    "Протестируйте линейный слой при помощи реализованной функции check_gradient: $\\frac{\\partial L}{\\partial x}$ и $\\frac{\\partial L}{\\partial w}$."
   ]
  },
  {
   "cell_type": "code",
   "execution_count": 9,
   "metadata": {},
   "outputs": [
    {
     "name": "stdout",
     "output_type": "stream",
     "text": [
      "1.9339774226523332e-10\n",
      "4.010400206366782e-10\n"
     ]
    }
   ],
   "source": [
    "layer = Linear(2, 3)\n",
    "\n",
    "X = np.random.rand(4, 2)\n",
    "Y = np.random.rand(4, 3)\n",
    "\n",
    "# X = np.array([[0, 1], [1, 1]])\n",
    "# Y = np.array([[0], [1]])\n",
    "\n",
    "# l = Linear(2, 1)\n",
    "# print(layer.backward(np.ones((4, 3))))\n",
    "\n",
    "def loss_function(W):\n",
    "    layer.W = W\n",
    "    res = layer.forward(X)\n",
    "    return ((res - Y)**2).sum()\n",
    "\n",
    "def loss_function_x(X):\n",
    "    res = layer.forward(X)\n",
    "    return ((res - Y)**2).sum()\n",
    "\n",
    "res = layer.forward(X)\n",
    "dLdy = 2 * (res - Y)\n",
    "# x_check = lambda x: x @ layer.W + layer.b\n",
    "# x_check = lambda x: (x**2).sum() \n",
    "# w_check = lambda W: layer.x @ W + layer.b\n",
    "# b_check = lambda b: layer.x @ layer.W + b\n",
    "\n",
    "layer.backward(dLdy)\n",
    "\n",
    "print(check_gradient(loss_function, layer.W, layer.dLdW))\n",
    "print(check_gradient(loss_function_x, X, layer.dLdX))\n",
    "#print(layer.dLd)"
   ]
  },
  {
   "cell_type": "markdown",
   "metadata": {},
   "source": [
    "### Часть 3: Сигмоида"
   ]
  },
  {
   "cell_type": "code",
   "execution_count": 10,
   "metadata": {},
   "outputs": [],
   "source": [
    "class Sigmoid:\n",
    "    def __init__(self):\n",
    "        pass\n",
    "    \n",
    "    def forward(self, X):\n",
    "        '''\n",
    "        Passes objects through this layer.\n",
    "        X is np.array of size (N, d)\n",
    "        '''\n",
    "        self.X = X\n",
    "        self.Y = 1/(1 + np.exp(-X))\n",
    "        return self.Y\n",
    "    \n",
    "    def backward(self, dLdy):\n",
    "        '''\n",
    "        1. Compute dLdx.\n",
    "        2. Return dLdx\n",
    "        '''\n",
    "        s = self.forward(self.X)\n",
    "        self.dLdX = dLdy * s * (1 - s)\n",
    "#         print(\"s=\",s, \"\\ndLdX = \", self.dLdX)\n",
    "        return self.dLdX\n",
    "    \n",
    "    def step(self, learning_rate):\n",
    "        pass"
   ]
  },
  {
   "cell_type": "markdown",
   "metadata": {},
   "source": [
    "Протестируйте слой при помощи реализованной функции check_gradient: $\\frac{\\partial L}{\\partial x}$."
   ]
  },
  {
   "cell_type": "code",
   "execution_count": 11,
   "metadata": {
    "scrolled": true
   },
   "outputs": [
    {
     "name": "stdout",
     "output_type": "stream",
     "text": [
      "6.329017865347453e-11\n"
     ]
    }
   ],
   "source": [
    "sig = Sigmoid()\n",
    "\n",
    "X = np.random.rand(2, 3)\n",
    "Y = np.random.rand(2, 3)\n",
    "# print(X, Y)\n",
    "# X = np.array([[0, 1], [1, 1]])\n",
    "# Y = np.array([[1, 1.5], [1.5, 1.5]])\n",
    "# X = np.zeros((1,1))\n",
    "# Y = np.ones((1,1))\n",
    "def loss_function_s(X):\n",
    "\n",
    "    res = sig.forward(X)\n",
    "    \n",
    "    return ((res - Y)**2).sum()\n",
    "\n",
    "res = sig.forward(X)\n",
    "dLdy = 2 * (res - Y)\n",
    "\n",
    "sig.backward(dLdy)\n",
    "\n",
    "print(check_gradient(loss_function_s, X, sig.dLdX))"
   ]
  },
  {
   "cell_type": "markdown",
   "metadata": {},
   "source": [
    "### Часть 4: Функция потерь"
   ]
  },
  {
   "cell_type": "markdown",
   "metadata": {},
   "source": [
    "Как мы увидели на семинаре, вычисление производной для связки SoftMax + Negative log-likelihood проще чем для этих двух слоев по отдельности. Поэтому мы реализуем их как один класс. Важное замечание: на проходе \"вперед\" важно воспользоваться трюком <a href=\"https://blog.feedly.com/tricks-of-the-trade-logsumexp/\">log-sum-exp</a>, чтобы не столкнуться с численными неустойчивостями."
   ]
  },
  {
   "cell_type": "code",
   "execution_count": 12,
   "metadata": {},
   "outputs": [],
   "source": [
    "class NLLLoss:\n",
    "    def __init__(self):\n",
    "        '''\n",
    "        Applies Softmax operation to inputs and computes NLL loss\n",
    "        '''\n",
    "        #### YOUR CODE HERE\n",
    "        #### (Hint: No code is expected here, just joking) :))))\n",
    "        pass\n",
    "    \n",
    "    def forward(self, X, y):\n",
    "        '''\n",
    "        Passes objects through this layer.\n",
    "        X is np.array of size (N, C), where C is the number of classes\n",
    "        y is np.array of size (N), contains correct labels\n",
    "        '''\n",
    "        self.X = X\n",
    "        self.y = y\n",
    "        \n",
    "        c = np.max(X, axis=1)[:, np.newaxis]\n",
    "        \n",
    "        self.log_sum_exp = X - np.log(np.sum(np.exp(X - c), axis=1))[:, np.newaxis] - c\n",
    "        self.exp = np.exp(self.log_sum_exp)\n",
    "        \n",
    "        loss = np.apply_along_axis(lambda x: -x[int(x[-1])], 1, np.hstack((self.log_sum_exp, self.y[:,np.newaxis])))\n",
    "\n",
    "        return loss.sum()\n",
    "    \n",
    "    def help_func1(self, x):\n",
    "        y = np.arange(x.shape[0]-1)\n",
    "        z = np.hstack((x[:-1, np.newaxis], y[:, np.newaxis]))\n",
    "        x = np.apply_along_axis(lambda z: np.exp(z[0]) - 1 if z[1] == x[-1] else np.exp(z[0]), 1, z)\n",
    "        \n",
    "        return x\n",
    "    \n",
    "    def backward(self):\n",
    "        '''\n",
    "        Note that here dLdy = 1 since L = y\n",
    "        1. Compute dLdx\n",
    "        2. Return dLdx\n",
    "        '''\n",
    "        \n",
    "        self.dLdx = np.apply_along_axis(lambda x: self.help_func1(x), 1, np.hstack((self.log_sum_exp, self.y[:, np.newaxis])))\n",
    "        \n",
    "        return self.dLdx"
   ]
  },
  {
   "cell_type": "markdown",
   "metadata": {},
   "source": [
    "Протестируйте слой при помощи реализованной функции check_gradient: $\\frac{\\partial L}{\\partial x}$."
   ]
  },
  {
   "cell_type": "code",
   "execution_count": 13,
   "metadata": {
    "scrolled": true
   },
   "outputs": [
    {
     "name": "stdout",
     "output_type": "stream",
     "text": [
      "2.1799068106176378e-10\n"
     ]
    }
   ],
   "source": [
    "softm = NLLLoss()\n",
    "\n",
    "X = np.random.rand(2, 3)\n",
    "y = np.around(np.random.rand(2)*3 )\n",
    "\n",
    "def loss_f(X):\n",
    "    res = softm.forward(X, y)\n",
    "    return res\n",
    "\n",
    "res = softm.forward(X, y)\n",
    "softm.backward()\n",
    "\n",
    "print(check_gradient(loss_f, X, softm.dLdx))"
   ]
  },
  {
   "cell_type": "markdown",
   "metadata": {},
   "source": [
    "### Часть 5, нейронная сеть"
   ]
  },
  {
   "cell_type": "markdown",
   "metadata": {},
   "source": [
    "Теперь, когда у нас есть \"кирпичики\", мы можем написать класс, который будет собирать всю сеть вместе "
   ]
  },
  {
   "cell_type": "code",
   "execution_count": 14,
   "metadata": {},
   "outputs": [],
   "source": [
    "class NeuralNetwork:\n",
    "    def __init__(self, modules):\n",
    "        '''\n",
    "        Constructs network with *modules* as its layers\n",
    "        '''\n",
    "        self.layers = modules\n",
    " \n",
    "    \n",
    "    def forward(self, X):\n",
    "\n",
    "        for layer in self.layers:\n",
    "            X_out = layer.forward(X)\n",
    "            X = X_out\n",
    "            \n",
    "        self.Y = X \n",
    "        return self.Y\n",
    "    \n",
    "    \n",
    "    def backward(self, dLdy):\n",
    "        '''\n",
    "        dLdy here is a gradient from loss function\n",
    "        '''\n",
    "        self.layers.reverse()\n",
    "        for layer in self.layers:\n",
    "            dLdy = layer.backward(dLdy)\n",
    "        self.layers.reverse()\n",
    "\n",
    "            \n",
    "    def step(self, learning_rate):\n",
    "        \n",
    "        for layer in self.layers:\n",
    "            layer.step(learning_rate)"
   ]
  },
  {
   "cell_type": "markdown",
   "metadata": {},
   "source": [
    "### Часть 6, обучение на простых данных"
   ]
  },
  {
   "cell_type": "code",
   "execution_count": 22,
   "metadata": {
    "scrolled": true
   },
   "outputs": [
    {
     "ename": "FileNotFoundError",
     "evalue": "[Errno 2] No such file or directory: 'data.npz'",
     "output_type": "error",
     "traceback": [
      "\u001b[0;31m---------------------------------------------------------------------------\u001b[0m",
      "\u001b[0;31mFileNotFoundError\u001b[0m                         Traceback (most recent call last)",
      "\u001b[0;32m<ipython-input-22-286b9808ba39>\u001b[0m in \u001b[0;36m<module>\u001b[0;34m\u001b[0m\n\u001b[0;32m----> 1\u001b[0;31m \u001b[0mdata\u001b[0m \u001b[0;34m=\u001b[0m \u001b[0mnp\u001b[0m\u001b[0;34m.\u001b[0m\u001b[0mload\u001b[0m\u001b[0;34m(\u001b[0m\u001b[0;34m'data.npz'\u001b[0m\u001b[0;34m)\u001b[0m\u001b[0;34m\u001b[0m\u001b[0;34m\u001b[0m\u001b[0m\n\u001b[0m\u001b[1;32m      2\u001b[0m \u001b[0mX\u001b[0m\u001b[0;34m,\u001b[0m \u001b[0my\u001b[0m \u001b[0;34m=\u001b[0m \u001b[0mdata\u001b[0m\u001b[0;34m[\u001b[0m\u001b[0;34m'arr_0'\u001b[0m\u001b[0;34m]\u001b[0m\u001b[0;34m,\u001b[0m \u001b[0mdata\u001b[0m\u001b[0;34m[\u001b[0m\u001b[0;34m'arr_1'\u001b[0m\u001b[0;34m]\u001b[0m\u001b[0;34m\u001b[0m\u001b[0;34m\u001b[0m\u001b[0m\n\u001b[1;32m      3\u001b[0m \u001b[0mplt\u001b[0m\u001b[0;34m.\u001b[0m\u001b[0mscatter\u001b[0m\u001b[0;34m(\u001b[0m\u001b[0mX\u001b[0m\u001b[0;34m[\u001b[0m\u001b[0;34m:\u001b[0m\u001b[0;34m,\u001b[0m \u001b[0;36m0\u001b[0m\u001b[0;34m]\u001b[0m\u001b[0;34m,\u001b[0m \u001b[0mX\u001b[0m\u001b[0;34m[\u001b[0m\u001b[0;34m:\u001b[0m\u001b[0;34m,\u001b[0m \u001b[0;36m1\u001b[0m\u001b[0;34m]\u001b[0m\u001b[0;34m,\u001b[0m \u001b[0mc\u001b[0m\u001b[0;34m=\u001b[0m\u001b[0my\u001b[0m\u001b[0;34m)\u001b[0m\u001b[0;34m\u001b[0m\u001b[0;34m\u001b[0m\u001b[0m\n\u001b[1;32m      4\u001b[0m \u001b[0mplt\u001b[0m\u001b[0;34m.\u001b[0m\u001b[0maxis\u001b[0m\u001b[0;34m(\u001b[0m\u001b[0;34m'equal'\u001b[0m\u001b[0;34m)\u001b[0m\u001b[0;34m\u001b[0m\u001b[0;34m\u001b[0m\u001b[0m\n\u001b[1;32m      5\u001b[0m \u001b[0mplt\u001b[0m\u001b[0;34m.\u001b[0m\u001b[0mshow\u001b[0m\u001b[0;34m(\u001b[0m\u001b[0;34m)\u001b[0m\u001b[0;34m\u001b[0m\u001b[0;34m\u001b[0m\u001b[0m\n",
      "\u001b[0;32m~/miniconda3/envs/env1/lib/python3.7/site-packages/numpy/lib/npyio.py\u001b[0m in \u001b[0;36mload\u001b[0;34m(file, mmap_mode, allow_pickle, fix_imports, encoding)\u001b[0m\n\u001b[1;32m    414\u001b[0m             \u001b[0mown_fid\u001b[0m \u001b[0;34m=\u001b[0m \u001b[0;32mFalse\u001b[0m\u001b[0;34m\u001b[0m\u001b[0;34m\u001b[0m\u001b[0m\n\u001b[1;32m    415\u001b[0m         \u001b[0;32melse\u001b[0m\u001b[0;34m:\u001b[0m\u001b[0;34m\u001b[0m\u001b[0;34m\u001b[0m\u001b[0m\n\u001b[0;32m--> 416\u001b[0;31m             \u001b[0mfid\u001b[0m \u001b[0;34m=\u001b[0m \u001b[0mstack\u001b[0m\u001b[0;34m.\u001b[0m\u001b[0menter_context\u001b[0m\u001b[0;34m(\u001b[0m\u001b[0mopen\u001b[0m\u001b[0;34m(\u001b[0m\u001b[0mos_fspath\u001b[0m\u001b[0;34m(\u001b[0m\u001b[0mfile\u001b[0m\u001b[0;34m)\u001b[0m\u001b[0;34m,\u001b[0m \u001b[0;34m\"rb\"\u001b[0m\u001b[0;34m)\u001b[0m\u001b[0;34m)\u001b[0m\u001b[0;34m\u001b[0m\u001b[0;34m\u001b[0m\u001b[0m\n\u001b[0m\u001b[1;32m    417\u001b[0m             \u001b[0mown_fid\u001b[0m \u001b[0;34m=\u001b[0m \u001b[0;32mTrue\u001b[0m\u001b[0;34m\u001b[0m\u001b[0;34m\u001b[0m\u001b[0m\n\u001b[1;32m    418\u001b[0m \u001b[0;34m\u001b[0m\u001b[0m\n",
      "\u001b[0;31mFileNotFoundError\u001b[0m: [Errno 2] No such file or directory: 'data.npz'"
     ]
    }
   ],
   "source": [
    "data = np.load('data.npz')\n",
    "X, y = data['arr_0'], data['arr_1']\n",
    "plt.scatter(X[:, 0], X[:, 1], c=y)\n",
    "plt.axis('equal')\n",
    "plt.show()"
   ]
  },
  {
   "cell_type": "markdown",
   "metadata": {},
   "source": [
    "Обучите архитектуру вида 2 -> 10 -> 10 -> 3:\n",
    "* Linear(2, 10)\n",
    "* Sigmoid()\n",
    "* Linear(10, 10)\n",
    "* Sigmoid()\n",
    "* Linear(10, 3)\n",
    "\n",
    "В качестве функции потерь используйте NLLLoss.\n",
    "1. Создайте сеть, в цикле запускайте forward, backward, step (используйте learning rate 0.005). \n",
    "2. Нарисуйте график сходимости (величина NLL после каждого обновления).\n",
    "3. Нарисуйте разделяющую поверхность\n",
    "4. Попробуйте подобрать темп обучения. Как меняется сходимость?"
   ]
  },
  {
   "cell_type": "code",
   "execution_count": 15,
   "metadata": {},
   "outputs": [],
   "source": [
    "from sklearn.model_selection import train_test_split\n",
    "from sklearn.metrics import accuracy_score"
   ]
  },
  {
   "cell_type": "code",
   "execution_count": 16,
   "metadata": {},
   "outputs": [],
   "source": [
    "X_train, X_test, y_train, y_test = train_test_split(X, y)"
   ]
  },
  {
   "cell_type": "code",
   "execution_count": 66,
   "metadata": {
    "scrolled": true
   },
   "outputs": [],
   "source": [
    "def alpha_choise(X_train, y_train):\n",
    "\n",
    "    a = [0.05, 0.01, 0.005, 0.004, 0.003, 0.002, 0.001, 0.0001]\n",
    "    losses = []\n",
    "\n",
    "    for alpha in a:\n",
    "\n",
    "        print(\"\\n----------------------alpha = \", alpha, \"----------------------\\n\")\n",
    "        fc1 = Linear(2, 10)\n",
    "        sig1 = Sigmoid()\n",
    "        fc2 = Linear(10, 10)\n",
    "        sig2 = Sigmoid()\n",
    "        fc3 = Linear(10, 3)\n",
    "\n",
    "        modules = [fc1, sig1, fc2, sig2, fc3]\n",
    "\n",
    "        nn = NeuralNetwork(modules)\n",
    "        nll = NLLLoss()\n",
    "        learning_rate = alpha\n",
    "        losses_alpha = []\n",
    "\n",
    "        for i in range(1001):\n",
    "\n",
    "            y_pred = nn.forward(X_train)\n",
    "\n",
    "            loss = nll.forward(y_pred, y_train)\n",
    "            losses_alpha.append(loss)\n",
    "            if i % 200 == 0:\n",
    "                print(i, loss)\n",
    "\n",
    "            dLdy = nll.backward()\n",
    "        #     print(dLdy)\n",
    "            nn.backward(dLdy)\n",
    "            nn.step(learning_rate)\n",
    "        losses.append((alpha, losses_alpha))\n",
    "        \n",
    "    return losses"
   ]
  },
  {
   "cell_type": "code",
   "execution_count": 17,
   "metadata": {},
   "outputs": [],
   "source": [
    "def nn_learning(X_train, y_train, loss_class=NLLLoss, alpha=0.005):\n",
    "    fc1 = Linear(2, 10)\n",
    "    sig1 = Sigmoid()\n",
    "    fc2 = Linear(10, 10)\n",
    "    sig2 = Sigmoid()\n",
    "    fc3 = Linear(10, 3)\n",
    "\n",
    "    modules = [fc1, sig1, fc2, sig2, fc3]\n",
    "\n",
    "    nn = NeuralNetwork(modules)\n",
    "    nll = loss_class()\n",
    "    learning_rate = alpha\n",
    "\n",
    "    for i in range(1001):\n",
    "\n",
    "        y_pred = nn.forward(X_train)\n",
    "\n",
    "        loss = nll.forward(y_pred, y_train)\n",
    "        if i % 200 == 0:\n",
    "            print(i, loss)\n",
    "\n",
    "        dLdy = nll.backward()\n",
    "        nn.backward(dLdy)\n",
    "        nn.step(learning_rate)\n",
    "        \n",
    "    return nn"
   ]
  },
  {
   "cell_type": "code",
   "execution_count": 68,
   "metadata": {
    "scrolled": true
   },
   "outputs": [
    {
     "name": "stdout",
     "output_type": "stream",
     "text": [
      "0 292.5414438223199\n",
      "200 215.85920327618334\n",
      "400 39.01553780914911\n",
      "600 8.188445337633667\n",
      "800 3.65271042767919\n",
      "1000 2.287274802044271\n"
     ]
    }
   ],
   "source": [
    "nn = nn_learning(X_train, y_train)\n",
    "y_pred = nn.forward(X_test)\n",
    "\n",
    "result = np.argmax(y_pred, axis=1)"
   ]
  },
  {
   "cell_type": "code",
   "execution_count": 69,
   "metadata": {
    "scrolled": true
   },
   "outputs": [
    {
     "name": "stdout",
     "output_type": "stream",
     "text": [
      "[0 2 2 1 1 1 1 2 2 2 1 1 1 0 1 1 0 2 1 1 1 1 1 1 2 1 0 2 1 2 1 1 1 2 1 2 1\n",
      " 0 1 2 1 2 2 2 1 0 1 2 1 2 2 1 2 0 1 0 1 0 1 1 2 0 2 0 1 1 1 1 0 1 2 2 2 2\n",
      " 1 2 1 1 2 0 1 1 1 2 2 1 1] [0 2 2 1 1 1 1 2 2 2 1 1 1 0 1 1 0 2 1 1 1 1 1 1 2 1 0 2 1 2 1 1 1 2 1 2 1\n",
      " 0 1 2 1 2 2 2 1 0 1 2 1 2 2 1 2 0 1 0 1 0 1 1 2 0 2 0 1 1 1 1 0 1 2 2 2 2\n",
      " 1 2 1 1 2 0 1 1 1 2 2 1 1]\n"
     ]
    },
    {
     "data": {
      "text/plain": [
       "1.0"
      ]
     },
     "execution_count": 69,
     "metadata": {},
     "output_type": "execute_result"
    }
   ],
   "source": [
    "print(result, y_test)\n",
    "accuracy_score(result, y_test)"
   ]
  },
  {
   "cell_type": "markdown",
   "metadata": {},
   "source": [
    "Отличная визуализация: http://playground.tensorflow.org/"
   ]
  },
  {
   "cell_type": "markdown",
   "metadata": {},
   "source": [
    "## Домашнее задание:"
   ]
  },
  {
   "cell_type": "markdown",
   "metadata": {},
   "source": [
    "* Подоберите темп обучения. Как меняется сходимость? Нарисуйте график оптимального значения функции потерь для различных значений learning_rate\n",
    "* Решите поставленную выше задачу как задачу регрессии с MSE. Изменилась ли разделяющая поверхность?"
   ]
  },
  {
   "cell_type": "code",
   "execution_count": 70,
   "metadata": {},
   "outputs": [],
   "source": [
    "import matplotlib.pyplot as plt"
   ]
  },
  {
   "cell_type": "code",
   "execution_count": 71,
   "metadata": {
    "scrolled": true
   },
   "outputs": [
    {
     "name": "stdout",
     "output_type": "stream",
     "text": [
      "\n",
      "----------------------alpha =  0.05 ----------------------\n",
      "\n",
      "0 278.41387316868474\n",
      "200 272.29162372994693\n",
      "400 24.64644592451035\n",
      "600 10.836432945541095\n",
      "800 6.86492427928304\n",
      "1000 5.003033934419749\n",
      "\n",
      "----------------------alpha =  0.01 ----------------------\n",
      "\n",
      "0 280.14365354524705\n",
      "200 79.72890449035825\n",
      "400 6.925488709402966\n",
      "600 2.196466330380356\n",
      "800 1.2582367071795222\n",
      "1000 0.8716751725452192\n",
      "\n",
      "----------------------alpha =  0.005 ----------------------\n",
      "\n",
      "0 295.3930031255219\n",
      "200 247.76817641621398\n",
      "400 26.851610985560093\n",
      "600 4.9653048295764535\n",
      "800 2.58441984318722\n",
      "1000 1.7373629756023825\n",
      "\n",
      "----------------------alpha =  0.004 ----------------------\n",
      "\n",
      "0 285.2757260398404\n",
      "200 271.12538570485367\n",
      "400 94.36980616440458\n",
      "600 38.743251799225945\n",
      "800 13.071140420425312\n",
      "1000 5.728306215528088\n",
      "\n",
      "----------------------alpha =  0.003 ----------------------\n",
      "\n",
      "0 277.19416225512975\n",
      "200 272.5366787744233\n",
      "400 262.23926643442013\n",
      "600 80.84857560551244\n",
      "800 20.848051261725985\n",
      "1000 8.049742875887581\n",
      "\n",
      "----------------------alpha =  0.002 ----------------------\n",
      "\n",
      "0 282.5150283560069\n",
      "200 272.45743186992297\n",
      "400 269.5814249713294\n",
      "600 142.00770219106417\n",
      "800 87.37699994295139\n",
      "1000 42.65906095035693\n",
      "\n",
      "----------------------alpha =  0.001 ----------------------\n",
      "\n",
      "0 277.9670755723595\n",
      "200 272.82722000501957\n",
      "400 272.7227843080529\n",
      "600 272.52046893164913\n",
      "800 272.0000959333638\n",
      "1000 269.9583336215935\n",
      "\n",
      "----------------------alpha =  0.0001 ----------------------\n",
      "\n",
      "0 286.394656930835\n",
      "200 272.92551103349507\n",
      "400 272.903390994707\n",
      "600 272.886128642933\n",
      "800 272.86873278620965\n",
      "1000 272.851071715279\n"
     ]
    }
   ],
   "source": [
    "losses = alpha_choise(X_train, y_train)"
   ]
  },
  {
   "cell_type": "code",
   "execution_count": 72,
   "metadata": {},
   "outputs": [
    {
     "data": {
      "image/png": "[encoded data removed]",
      "text/plain": [
       "<Figure size 864x504 with 1 Axes>"
      ]
     },
     "metadata": {
      "needs_background": "light"
     },
     "output_type": "display_data"
    }
   ],
   "source": [
    "plt.figure(figsize=(12, 7))\n",
    "\n",
    "for i in losses:\n",
    "    plt.plot(i[1], label='learning rate = {}'.format(i[0]))\n",
    "    \n",
    "plt.ylabel('Loss')\n",
    "plt.xlabel('Epoch')\n",
    "plt.title('Loss convergence graph', fontsize = 13)\n",
    "plt.legend();"
   ]
  },
  {
   "cell_type": "code",
   "execution_count": 73,
   "metadata": {},
   "outputs": [],
   "source": [
    "from sklearn.linear_model import SGDClassifier"
   ]
  },
  {
   "cell_type": "code",
   "execution_count": 74,
   "metadata": {},
   "outputs": [],
   "source": [
    "sgd = SGDClassifier(loss='hinge', alpha = 0.005)"
   ]
  },
  {
   "cell_type": "code",
   "execution_count": 75,
   "metadata": {},
   "outputs": [
    {
     "data": {
      "text/plain": [
       "SGDClassifier(alpha=0.005, average=False, class_weight=None,\n",
       "              early_stopping=False, epsilon=0.1, eta0=0.0, fit_intercept=True,\n",
       "              l1_ratio=0.15, learning_rate='optimal', loss='hinge',\n",
       "              max_iter=1000, n_iter_no_change=5, n_jobs=None, penalty='l2',\n",
       "              power_t=0.5, random_state=None, shuffle=True, tol=0.001,\n",
       "              validation_fraction=0.1, verbose=0, warm_start=False)"
      ]
     },
     "execution_count": 75,
     "metadata": {},
     "output_type": "execute_result"
    }
   ],
   "source": [
    "sgd.fit(X_train, y_train)"
   ]
  },
  {
   "cell_type": "code",
   "execution_count": 76,
   "metadata": {},
   "outputs": [],
   "source": [
    "y_pred = sgd.predict(X_test)"
   ]
  },
  {
   "cell_type": "code",
   "execution_count": 77,
   "metadata": {},
   "outputs": [
    {
     "data": {
      "text/plain": [
       "array([0, 2, 2, 1, 1, 1, 1, 2, 2, 2, 1, 1, 1, 0, 1, 1, 0, 2, 1, 1, 1, 1,\n",
       "       1, 1, 2, 1, 0, 2, 1, 2, 1, 1, 1, 2, 1, 2, 1, 0, 1, 2, 1, 2, 2, 2,\n",
       "       1, 0, 1, 2, 1, 2, 2, 1, 2, 0, 1, 0, 1, 0, 1, 1, 2, 0, 2, 0, 1, 1,\n",
       "       1, 1, 0, 1, 2, 2, 2, 2, 1, 2, 1, 1, 2, 0, 1, 1, 1, 2, 2, 1, 1])"
      ]
     },
     "execution_count": 77,
     "metadata": {},
     "output_type": "execute_result"
    }
   ],
   "source": [
    "y_pred"
   ]
  },
  {
   "cell_type": "code",
   "execution_count": 78,
   "metadata": {},
   "outputs": [
    {
     "data": {
      "text/plain": [
       "1.0"
      ]
     },
     "execution_count": 78,
     "metadata": {},
     "output_type": "execute_result"
    }
   ],
   "source": [
    "accuracy_score(y_pred, y_test)"
   ]
  },
  {
   "cell_type": "code",
   "execution_count": 18,
   "metadata": {},
   "outputs": [],
   "source": [
    "class MSELoss:\n",
    "    \n",
    "    def __init__(self):\n",
    "        pass\n",
    "    \n",
    "    def forward(self, y_pred, y):\n",
    "\n",
    "        self.y_pred = y_pred\n",
    "        self.y = y\n",
    "        \n",
    "        return np.sum((y-y_pred)**2)\n",
    "    \n",
    "    def backward(self):\n",
    "        \n",
    "        return 2*(y-y_pred)"
   ]
  },
  {
   "cell_type": "code",
   "execution_count": 106,
   "metadata": {},
   "outputs": [],
   "source": [
    "def nn_surface(nn):\n",
    "    min_val = np.min(X, axis=0)\n",
    "    max_val = np.max(X, axis=0)\n",
    "    \n",
    "    step = 0.001\n",
    "    \n",
    "    x_grid, y_grid = np.meshgrid(np.arange(min_val[0]-0.1, max_val[0]+0.1, step), np.arange(min_val[1]-0.1, max_val[1]+0.1, step))\n",
    "#     print(x.shape, y.shape)\n",
    "    \n",
    "    points = np.c_[x_grid.flatten(), y_grid.flatten()]\n",
    "#     print(points.shape)\n",
    "    \n",
    "    y_pred = np.argmax(nn.forward(points), axis=1).reshape(x_grid.shape)\n",
    "    \n",
    "    plt.figure(figsize = (7, 7))\n",
    "    plt.pcolormesh(x_grid, y_grid, y_pred, alpha=0.01)\n",
    "    plt.scatter(X[:, 0], X[:, 1], c=y)"
   ]
  },
  {
   "cell_type": "code",
   "execution_count": 20,
   "metadata": {},
   "outputs": [
    {
     "data": {
      "text/plain": [
       "(1, 3)"
      ]
     },
     "execution_count": 20,
     "metadata": {},
     "output_type": "execute_result"
    }
   ],
   "source": [
    "X_train.shape"
   ]
  },
  {
   "cell_type": "code",
   "execution_count": 21,
   "metadata": {},
   "outputs": [
    {
     "data": {
      "text/plain": [
       "(1,)"
      ]
     },
     "execution_count": 21,
     "metadata": {},
     "output_type": "execute_result"
    }
   ],
   "source": [
    "y_train.shape"
   ]
  },
  {
   "cell_type": "code",
   "execution_count": 19,
   "metadata": {},
   "outputs": [
    {
     "ename": "ValueError",
     "evalue": "matmul: Input operand 1 has a mismatch in its core dimension 0, with gufunc signature (n?,k),(k,m?)->(n?,m?) (size 2 is different from 3)",
     "output_type": "error",
     "traceback": [
      "\u001b[0;31m---------------------------------------------------------------------------\u001b[0m",
      "\u001b[0;31mValueError\u001b[0m                                Traceback (most recent call last)",
      "\u001b[0;32m<ipython-input-19-3689cc934dc0>\u001b[0m in \u001b[0;36m<module>\u001b[0;34m\u001b[0m\n\u001b[0;32m----> 1\u001b[0;31m \u001b[0mnn\u001b[0m \u001b[0;34m=\u001b[0m \u001b[0mnn_learning\u001b[0m\u001b[0;34m(\u001b[0m\u001b[0mX_train\u001b[0m\u001b[0;34m,\u001b[0m \u001b[0my_train\u001b[0m\u001b[0;34m,\u001b[0m \u001b[0mMSELoss\u001b[0m\u001b[0;34m)\u001b[0m\u001b[0;34m\u001b[0m\u001b[0;34m\u001b[0m\u001b[0m\n\u001b[0m",
      "\u001b[0;32m<ipython-input-17-b830f50e7f07>\u001b[0m in \u001b[0;36mnn_learning\u001b[0;34m(X_train, y_train, loss_class, alpha)\u001b[0m\n\u001b[1;32m     14\u001b[0m     \u001b[0;32mfor\u001b[0m \u001b[0mi\u001b[0m \u001b[0;32min\u001b[0m \u001b[0mrange\u001b[0m\u001b[0;34m(\u001b[0m\u001b[0;36m1001\u001b[0m\u001b[0;34m)\u001b[0m\u001b[0;34m:\u001b[0m\u001b[0;34m\u001b[0m\u001b[0;34m\u001b[0m\u001b[0m\n\u001b[1;32m     15\u001b[0m \u001b[0;34m\u001b[0m\u001b[0m\n\u001b[0;32m---> 16\u001b[0;31m         \u001b[0my_pred\u001b[0m \u001b[0;34m=\u001b[0m \u001b[0mnn\u001b[0m\u001b[0;34m.\u001b[0m\u001b[0mforward\u001b[0m\u001b[0;34m(\u001b[0m\u001b[0mX_train\u001b[0m\u001b[0;34m)\u001b[0m\u001b[0;34m\u001b[0m\u001b[0;34m\u001b[0m\u001b[0m\n\u001b[0m\u001b[1;32m     17\u001b[0m \u001b[0;34m\u001b[0m\u001b[0m\n\u001b[1;32m     18\u001b[0m         \u001b[0mloss\u001b[0m \u001b[0;34m=\u001b[0m \u001b[0mnll\u001b[0m\u001b[0;34m.\u001b[0m\u001b[0mforward\u001b[0m\u001b[0;34m(\u001b[0m\u001b[0my_pred\u001b[0m\u001b[0;34m,\u001b[0m \u001b[0my_train\u001b[0m\u001b[0;34m)\u001b[0m\u001b[0;34m\u001b[0m\u001b[0;34m\u001b[0m\u001b[0m\n",
      "\u001b[0;32m<ipython-input-14-070af2d46959>\u001b[0m in \u001b[0;36mforward\u001b[0;34m(self, X)\u001b[0m\n\u001b[1;32m     10\u001b[0m \u001b[0;34m\u001b[0m\u001b[0m\n\u001b[1;32m     11\u001b[0m         \u001b[0;32mfor\u001b[0m \u001b[0mlayer\u001b[0m \u001b[0;32min\u001b[0m \u001b[0mself\u001b[0m\u001b[0;34m.\u001b[0m\u001b[0mlayers\u001b[0m\u001b[0;34m:\u001b[0m\u001b[0;34m\u001b[0m\u001b[0;34m\u001b[0m\u001b[0m\n\u001b[0;32m---> 12\u001b[0;31m             \u001b[0mX_out\u001b[0m \u001b[0;34m=\u001b[0m \u001b[0mlayer\u001b[0m\u001b[0;34m.\u001b[0m\u001b[0mforward\u001b[0m\u001b[0;34m(\u001b[0m\u001b[0mX\u001b[0m\u001b[0;34m)\u001b[0m\u001b[0;34m\u001b[0m\u001b[0;34m\u001b[0m\u001b[0m\n\u001b[0m\u001b[1;32m     13\u001b[0m             \u001b[0mX\u001b[0m \u001b[0;34m=\u001b[0m \u001b[0mX_out\u001b[0m\u001b[0;34m\u001b[0m\u001b[0;34m\u001b[0m\u001b[0m\n\u001b[1;32m     14\u001b[0m \u001b[0;34m\u001b[0m\u001b[0m\n",
      "\u001b[0;32m<ipython-input-7-6330ebcc22e6>\u001b[0m in \u001b[0;36mforward\u001b[0;34m(self, X)\u001b[0m\n\u001b[1;32m     19\u001b[0m         '''\n\u001b[1;32m     20\u001b[0m         \u001b[0mself\u001b[0m\u001b[0;34m.\u001b[0m\u001b[0mX\u001b[0m \u001b[0;34m=\u001b[0m \u001b[0mX\u001b[0m\u001b[0;34m\u001b[0m\u001b[0;34m\u001b[0m\u001b[0m\n\u001b[0;32m---> 21\u001b[0;31m         \u001b[0mself\u001b[0m\u001b[0;34m.\u001b[0m\u001b[0mY\u001b[0m \u001b[0;34m=\u001b[0m \u001b[0mnp\u001b[0m\u001b[0;34m.\u001b[0m\u001b[0mapply_along_axis\u001b[0m\u001b[0;34m(\u001b[0m\u001b[0;32mlambda\u001b[0m \u001b[0mx\u001b[0m\u001b[0;34m:\u001b[0m \u001b[0mx\u001b[0m\u001b[0;34m+\u001b[0m\u001b[0mself\u001b[0m\u001b[0;34m.\u001b[0m\u001b[0mb\u001b[0m\u001b[0;34m,\u001b[0m \u001b[0;36m1\u001b[0m\u001b[0;34m,\u001b[0m \u001b[0mX\u001b[0m \u001b[0;34m@\u001b[0m \u001b[0mself\u001b[0m\u001b[0;34m.\u001b[0m\u001b[0mW\u001b[0m\u001b[0;34m)\u001b[0m\u001b[0;34m\u001b[0m\u001b[0;34m\u001b[0m\u001b[0m\n\u001b[0m\u001b[1;32m     22\u001b[0m \u001b[0;34m\u001b[0m\u001b[0m\n\u001b[1;32m     23\u001b[0m         \u001b[0;32mreturn\u001b[0m \u001b[0mself\u001b[0m\u001b[0;34m.\u001b[0m\u001b[0mY\u001b[0m\u001b[0;34m\u001b[0m\u001b[0;34m\u001b[0m\u001b[0m\n",
      "\u001b[0;31mValueError\u001b[0m: matmul: Input operand 1 has a mismatch in its core dimension 0, with gufunc signature (n?,k),(k,m?)->(n?,m?) (size 2 is different from 3)"
     ]
    }
   ],
   "source": [
    "nn = nn_learning(X_train, y_train, MSELoss)"
   ]
  },
  {
   "cell_type": "code",
   "execution_count": 107,
   "metadata": {
    "scrolled": false
   },
   "outputs": [
    {
     "name": "stdout",
     "output_type": "stream",
     "text": [
      "(4, 3) (346,)\n",
      "(1423245, 2)\n"
     ]
    },
    {
     "data": {
      "image/png": "[encoded data removed]",
      "text/plain": [
       "<Figure size 504x504 with 1 Axes>"
      ]
     },
     "metadata": {
      "needs_background": "light"
     },
     "output_type": "display_data"
    }
   ],
   "source": [
    "nn_surface(nn)"
   ]
  },
  {
   "cell_type": "code",
   "execution_count": null,
   "metadata": {},
   "outputs": [],
   "source": []
  }
 ],
 "metadata": {
  "kernelspec": {
   "display_name": "Python 3",
   "language": "python",
   "name": "python3"
  },
  "language_info": {
   "codemirror_mode": {
    "name": "ipython",
    "version": 3
   },
   "file_extension": ".py",
   "mimetype": "text/x-python",
   "name": "python",
   "nbconvert_exporter": "python",
   "pygments_lexer": "ipython3",
   "version": "3.7.9"
  }
 },
 "nbformat": 4,
 "nbformat_minor": 2
}
